{
 "cells": [
  {
   "cell_type": "markdown",
   "id": "c83173ad",
   "metadata": {
    "id": "view-in-github",
    "papermill": {
     "duration": 0.007854,
     "end_time": "2023-06-19T00:10:25.264008",
     "exception": false,
     "start_time": "2023-06-19T00:10:25.256154",
     "status": "completed"
    },
    "tags": []
   },
   "source": [
    "<a href=\"https://colab.research.google.com/github/vgctelles/vgctellesCodeSharing/blob/main/DailyLoginCamisa7.ipynb\" target=\"_parent\"><img src=\"https://colab.research.google.com/assets/colab-badge.svg\" alt=\"Open In Colab\"/></a>"
   ]
  },
  {
   "cell_type": "code",
   "execution_count": 1,
   "id": "10e8825d",
   "metadata": {
    "execution": {
     "iopub.execute_input": "2023-06-19T00:10:25.280427Z",
     "iopub.status.busy": "2023-06-19T00:10:25.279907Z",
     "iopub.status.idle": "2023-06-19T00:10:40.476562Z",
     "shell.execute_reply": "2023-06-19T00:10:40.475073Z"
    },
    "id": "e6mvzd5-rhpn",
    "outputId": "ed3b39f8-d474-4277-fcd6-12d33422e445",
    "papermill": {
     "duration": 15.208307,
     "end_time": "2023-06-19T00:10:40.479525",
     "exception": false,
     "start_time": "2023-06-19T00:10:25.271218",
     "status": "completed"
    },
    "tags": []
   },
   "outputs": [
    {
     "name": "stdout",
     "output_type": "stream",
     "text": [
      "Requirement already satisfied: beautifulsoup4 in /opt/conda/lib/python3.7/site-packages (4.11.1)\r\n",
      "Requirement already satisfied: soupsieve>1.2 in /opt/conda/lib/python3.7/site-packages (from beautifulsoup4) (2.3.1)\r\n",
      "\u001b[33mWARNING: Running pip as the 'root' user can result in broken permissions and conflicting behaviour with the system package manager. It is recommended to use a virtual environment instead: https://pip.pypa.io/warnings/venv\u001b[0m\u001b[33m\r\n",
      "\u001b[0mNote: you may need to restart the kernel to use updated packages.\n"
     ]
    }
   ],
   "source": [
    "pip install beautifulsoup4"
   ]
  },
  {
   "cell_type": "code",
   "execution_count": 2,
   "id": "8e5efcf1",
   "metadata": {
    "execution": {
     "iopub.execute_input": "2023-06-19T00:10:40.495922Z",
     "iopub.status.busy": "2023-06-19T00:10:40.495430Z",
     "iopub.status.idle": "2023-06-19T00:10:54.457626Z",
     "shell.execute_reply": "2023-06-19T00:10:54.455882Z"
    },
    "papermill": {
     "duration": 13.9738,
     "end_time": "2023-06-19T00:10:54.460516",
     "exception": false,
     "start_time": "2023-06-19T00:10:40.486716",
     "status": "completed"
    },
    "tags": []
   },
   "outputs": [
    {
     "name": "stdout",
     "output_type": "stream",
     "text": [
      "Collecting webdriver-manager\r\n",
      "  Downloading webdriver_manager-3.8.6-py2.py3-none-any.whl (27 kB)\r\n",
      "Requirement already satisfied: packaging in /opt/conda/lib/python3.7/site-packages (from webdriver-manager) (21.3)\r\n",
      "Requirement already satisfied: python-dotenv in /opt/conda/lib/python3.7/site-packages (from webdriver-manager) (0.20.0)\r\n",
      "Requirement already satisfied: tqdm in /opt/conda/lib/python3.7/site-packages (from webdriver-manager) (4.64.0)\r\n",
      "Requirement already satisfied: requests in /opt/conda/lib/python3.7/site-packages (from webdriver-manager) (2.28.1)\r\n",
      "Requirement already satisfied: pyparsing!=3.0.5,>=2.0.2 in /opt/conda/lib/python3.7/site-packages (from packaging->webdriver-manager) (3.0.9)\r\n",
      "Requirement already satisfied: urllib3<1.27,>=1.21.1 in /opt/conda/lib/python3.7/site-packages (from requests->webdriver-manager) (1.26.11)\r\n",
      "Requirement already satisfied: certifi>=2017.4.17 in /opt/conda/lib/python3.7/site-packages (from requests->webdriver-manager) (2022.6.15)\r\n",
      "Requirement already satisfied: idna<4,>=2.5 in /opt/conda/lib/python3.7/site-packages (from requests->webdriver-manager) (3.3)\r\n",
      "Requirement already satisfied: charset-normalizer<3,>=2 in /opt/conda/lib/python3.7/site-packages (from requests->webdriver-manager) (2.1.0)\r\n",
      "Installing collected packages: webdriver-manager\r\n",
      "Successfully installed webdriver-manager-3.8.6\r\n",
      "\u001b[33mWARNING: Running pip as the 'root' user can result in broken permissions and conflicting behaviour with the system package manager. It is recommended to use a virtual environment instead: https://pip.pypa.io/warnings/venv\u001b[0m\u001b[33m\r\n",
      "\u001b[0mNote: you may need to restart the kernel to use updated packages.\n"
     ]
    }
   ],
   "source": [
    "pip install webdriver-manager"
   ]
  },
  {
   "cell_type": "code",
   "execution_count": 3,
   "id": "4a9afe13",
   "metadata": {
    "execution": {
     "iopub.execute_input": "2023-06-19T00:10:54.478898Z",
     "iopub.status.busy": "2023-06-19T00:10:54.477857Z",
     "iopub.status.idle": "2023-06-19T00:11:10.535106Z",
     "shell.execute_reply": "2023-06-19T00:11:10.533517Z"
    },
    "id": "nNulo0zPLxcE",
    "outputId": "86a6c9ec-f08e-46b5-c611-3c4eea969f80",
    "papermill": {
     "duration": 16.070059,
     "end_time": "2023-06-19T00:11:10.538288",
     "exception": false,
     "start_time": "2023-06-19T00:10:54.468229",
     "status": "completed"
    },
    "tags": []
   },
   "outputs": [
    {
     "name": "stdout",
     "output_type": "stream",
     "text": [
      "Collecting selenium\r\n",
      "  Downloading selenium-4.10.0-py3-none-any.whl (6.7 MB)\r\n",
      "\u001b[2K     \u001b[90m━━━━━━━━━━━━━━━━━━━━━━━━━━━━━━━━━━━━━━━━\u001b[0m \u001b[32m6.7/6.7 MB\u001b[0m \u001b[31m41.0 MB/s\u001b[0m eta \u001b[36m0:00:00\u001b[0m\r\n",
      "\u001b[?25hRequirement already satisfied: certifi>=2021.10.8 in /opt/conda/lib/python3.7/site-packages (from selenium) (2022.6.15)\r\n",
      "Collecting trio~=0.17\r\n",
      "  Downloading trio-0.22.0-py3-none-any.whl (384 kB)\r\n",
      "\u001b[2K     \u001b[90m━━━━━━━━━━━━━━━━━━━━━━━━━━━━━━━━━━━━━━\u001b[0m \u001b[32m384.9/384.9 kB\u001b[0m \u001b[31m25.0 MB/s\u001b[0m eta \u001b[36m0:00:00\u001b[0m\r\n",
      "\u001b[?25hRequirement already satisfied: urllib3[socks]<3,>=1.26 in /opt/conda/lib/python3.7/site-packages (from selenium) (1.26.11)\r\n",
      "Collecting trio-websocket~=0.9\r\n",
      "  Downloading trio_websocket-0.10.3-py3-none-any.whl (17 kB)\r\n",
      "Requirement already satisfied: sortedcontainers in /opt/conda/lib/python3.7/site-packages (from trio~=0.17->selenium) (2.4.0)\r\n",
      "Requirement already satisfied: sniffio in /opt/conda/lib/python3.7/site-packages (from trio~=0.17->selenium) (1.2.0)\r\n",
      "Requirement already satisfied: idna in /opt/conda/lib/python3.7/site-packages (from trio~=0.17->selenium) (3.3)\r\n",
      "Collecting outcome\r\n",
      "  Downloading outcome-1.2.0-py2.py3-none-any.whl (9.7 kB)\r\n",
      "Collecting exceptiongroup>=1.0.0rc9\r\n",
      "  Downloading exceptiongroup-1.1.1-py3-none-any.whl (14 kB)\r\n",
      "Collecting async-generator>=1.9\r\n",
      "  Downloading async_generator-1.10-py3-none-any.whl (18 kB)\r\n",
      "Requirement already satisfied: attrs>=19.2.0 in /opt/conda/lib/python3.7/site-packages (from trio~=0.17->selenium) (21.4.0)\r\n",
      "Collecting wsproto>=0.14\r\n",
      "  Downloading wsproto-1.2.0-py3-none-any.whl (24 kB)\r\n",
      "Requirement already satisfied: PySocks!=1.5.7,<2.0,>=1.5.6 in /opt/conda/lib/python3.7/site-packages (from urllib3[socks]<3,>=1.26->selenium) (1.7.1)\r\n",
      "Requirement already satisfied: h11<1,>=0.9.0 in /opt/conda/lib/python3.7/site-packages (from wsproto>=0.14->trio-websocket~=0.9->selenium) (0.13.0)\r\n",
      "Requirement already satisfied: typing-extensions in /opt/conda/lib/python3.7/site-packages (from h11<1,>=0.9.0->wsproto>=0.14->trio-websocket~=0.9->selenium) (4.3.0)\r\n",
      "Installing collected packages: outcome, exceptiongroup, async-generator, wsproto, trio, trio-websocket, selenium\r\n",
      "Successfully installed async-generator-1.10 exceptiongroup-1.1.1 outcome-1.2.0 selenium-4.10.0 trio-0.22.0 trio-websocket-0.10.3 wsproto-1.2.0\r\n",
      "\u001b[33mWARNING: Running pip as the 'root' user can result in broken permissions and conflicting behaviour with the system package manager. It is recommended to use a virtual environment instead: https://pip.pypa.io/warnings/venv\u001b[0m\u001b[33m\r\n",
      "\u001b[0mNote: you may need to restart the kernel to use updated packages.\n"
     ]
    }
   ],
   "source": [
    "pip install selenium                 #install selenium "
   ]
  },
  {
   "cell_type": "code",
   "execution_count": 4,
   "id": "cc020126",
   "metadata": {
    "execution": {
     "iopub.execute_input": "2023-06-19T00:11:10.559965Z",
     "iopub.status.busy": "2023-06-19T00:11:10.559518Z",
     "iopub.status.idle": "2023-06-19T00:11:21.390664Z",
     "shell.execute_reply": "2023-06-19T00:11:21.389163Z"
    },
    "papermill": {
     "duration": 10.84578,
     "end_time": "2023-06-19T00:11:21.393781",
     "exception": false,
     "start_time": "2023-06-19T00:11:10.548001",
     "status": "completed"
    },
    "tags": []
   },
   "outputs": [
    {
     "name": "stdout",
     "output_type": "stream",
     "text": [
      "--2023-06-19 00:11:11--  https://dl.google.com/linux/linux_signing_key.pub\r\n",
      "Resolving dl.google.com (dl.google.com)... 108.177.97.93, 108.177.97.136, 108.177.97.190, ...\r\n",
      "Connecting to dl.google.com (dl.google.com)|108.177.97.93|:443... connected.\r\n",
      "HTTP request sent, awaiting response... 200 OK\r\n",
      "Length: 14605 (14K) [application/octet-stream]\r\n",
      "Saving to: ‘linux_signing_key.pub’\r\n",
      "\r\n",
      "linux_signing_key.p 100%[===================>]  14.26K  --.-KB/s    in 0.001s  \r\n",
      "\r\n",
      "2023-06-19 00:11:11 (26.1 MB/s) - ‘linux_signing_key.pub’ saved [14605/14605]\r\n",
      "\r\n",
      "OK\r\n",
      "Get:1 http://dl.google.com/linux/chrome/deb stable InRelease [1825 B]\r\n",
      "Get:2 http://packages.cloud.google.com/apt gcsfuse-focal InRelease [5002 B]\r\n",
      "Get:3 https://packages.cloud.google.com/apt cloud-sdk InRelease [6361 B]\r\n",
      "Get:4 http://dl.google.com/linux/chrome/deb stable/main amd64 Packages [1077 B]\r\n",
      "Err:2 http://packages.cloud.google.com/apt gcsfuse-focal InRelease\r\n",
      "  The following signatures couldn't be verified because the public key is not available: NO_PUBKEY B53DC80D13EDEF05\r\n",
      "Err:3 https://packages.cloud.google.com/apt cloud-sdk InRelease\r\n",
      "  The following signatures couldn't be verified because the public key is not available: NO_PUBKEY B53DC80D13EDEF05\r\n",
      "Hit:5 http://archive.ubuntu.com/ubuntu focal InRelease\r\n",
      "Get:6 http://security.ubuntu.com/ubuntu focal-security InRelease [114 kB]\r\n",
      "Get:7 http://archive.ubuntu.com/ubuntu focal-updates InRelease [114 kB]\r\n",
      "Get:8 http://archive.ubuntu.com/ubuntu focal-backports InRelease [108 kB]\r\n",
      "Get:9 http://security.ubuntu.com/ubuntu focal-security/main amd64 Packages [2803 kB]\r\n",
      "Get:10 http://archive.ubuntu.com/ubuntu focal-updates/multiverse amd64 Packages [31.2 kB]\r\n",
      "Get:11 http://archive.ubuntu.com/ubuntu focal-updates/restricted amd64 Packages [2538 kB]\r\n",
      "Get:12 http://archive.ubuntu.com/ubuntu focal-updates/universe amd64 Packages [1359 kB]\r\n",
      "Get:13 http://archive.ubuntu.com/ubuntu focal-updates/main amd64 Packages [3282 kB]\r\n",
      "Get:14 http://security.ubuntu.com/ubuntu focal-security/restricted amd64 Packages [2400 kB]\r\n",
      "Get:15 http://security.ubuntu.com/ubuntu focal-security/multiverse amd64 Packages [28.5 kB]\r\n",
      "Get:16 http://security.ubuntu.com/ubuntu focal-security/universe amd64 Packages [1062 kB]\r\n",
      "Get:17 http://archive.ubuntu.com/ubuntu focal-backports/main amd64 Packages [55.2 kB]\r\n",
      "Get:18 http://archive.ubuntu.com/ubuntu focal-backports/universe amd64 Packages [28.6 kB]\r\n",
      "Fetched 13.9 MB in 4s (3548 kB/s)\r\n",
      "\r\n",
      "W: An error occurred during the signature verification. The repository is not updated and the previous index files will be used. GPG error: http://packages.cloud.google.com/apt gcsfuse-focal InRelease: The following signatures couldn't be verified because the public key is not available: NO_PUBKEY B53DC80D13EDEF05\r\n",
      "W: An error occurred during the signature verification. The repository is not updated and the previous index files will be used. GPG error: https://packages.cloud.google.com/apt cloud-sdk InRelease: The following signatures couldn't be verified because the public key is not available: NO_PUBKEY B53DC80D13EDEF05\r\n",
      "W: Failed to fetch http://packages.cloud.google.com/apt/dists/gcsfuse-focal/InRelease  The following signatures couldn't be verified because the public key is not available: NO_PUBKEY B53DC80D13EDEF05\r\n",
      "W: Failed to fetch https://packages.cloud.google.com/apt/dists/cloud-sdk/InRelease  The following signatures couldn't be verified because the public key is not available: NO_PUBKEY B53DC80D13EDEF05\r\n",
      "W: Some index files failed to download. They have been ignored, or old ones used instead.\r\n"
     ]
    }
   ],
   "source": [
    "!wget https://dl.google.com/linux/linux_signing_key.pub\n",
    "!sudo apt-key add linux_signing_key.pub\n",
    "!echo 'deb [arch=amd64] http://dl.google.com/linux/chrome/deb/ stable main' >> /etc/apt/sources.list.d/google-chrome.list\n",
    "!apt-get update -y                    "
   ]
  },
  {
   "cell_type": "code",
   "execution_count": 5,
   "id": "7d4e3599",
   "metadata": {
    "execution": {
     "iopub.execute_input": "2023-06-19T00:11:21.423923Z",
     "iopub.status.busy": "2023-06-19T00:11:21.423121Z",
     "iopub.status.idle": "2023-06-19T00:11:47.367245Z",
     "shell.execute_reply": "2023-06-19T00:11:47.366022Z"
    },
    "papermill": {
     "duration": 25.962603,
     "end_time": "2023-06-19T00:11:47.370357",
     "exception": false,
     "start_time": "2023-06-19T00:11:21.407754",
     "status": "completed"
    },
    "tags": []
   },
   "outputs": [
    {
     "name": "stdout",
     "output_type": "stream",
     "text": [
      "--2023-06-19 00:11:22--  https://dl.google.com/linux/direct/google-chrome-stable_current_amd64.deb\r\n",
      "Resolving dl.google.com (dl.google.com)... 108.177.97.190, 108.177.97.91, 108.177.97.93, ...\r\n",
      "Connecting to dl.google.com (dl.google.com)|108.177.97.190|:443... connected.\r\n",
      "HTTP request sent, awaiting response... 200 OK\r\n",
      "Length: 94355016 (90M) [application/x-debian-package]\r\n",
      "Saving to: ‘google-chrome-stable_current_amd64.deb’\r\n",
      "\r\n",
      "google-chrome-stabl 100%[===================>]  89.98M   248MB/s    in 0.4s    \r\n",
      "\r\n",
      "2023-06-19 00:11:22 (248 MB/s) - ‘google-chrome-stable_current_amd64.deb’ saved [94355016/94355016]\r\n",
      "\r\n",
      "Selecting previously unselected package google-chrome-stable.\r\n",
      "(Reading database ... 106350 files and directories currently installed.)\r\n",
      "Preparing to unpack google-chrome-stable_current_amd64.deb ...\r\n",
      "Unpacking google-chrome-stable (114.0.5735.133-1) ...\r\n",
      "\u001b[1mdpkg:\u001b[0m dependency problems prevent configuration of google-chrome-stable:\r\n",
      " google-chrome-stable depends on fonts-liberation; however:\r\n",
      "  Package fonts-liberation is not installed.\r\n",
      " google-chrome-stable depends on libgbm1 (>= 17.1.0~rc2); however:\r\n",
      "  Package libgbm1 is not installed.\r\n",
      " google-chrome-stable depends on libu2f-udev; however:\r\n",
      "  Package libu2f-udev is not installed.\r\n",
      "\r\n",
      "\u001b[1mdpkg:\u001b[0m error processing package google-chrome-stable (--install):\r\n",
      " dependency problems - leaving unconfigured\r\n",
      "Processing triggers for mime-support (3.64ubuntu1) ...\r\n",
      "Processing triggers for man-db (2.9.1-1) ...\r\n",
      "Errors were encountered while processing:\r\n",
      " google-chrome-stable\r\n",
      "\r\n",
      "\r\n",
      "\r\n",
      "Correcting dependencies... Done\r\n",
      "The following additional packages will be installed:\r\n",
      "  fonts-liberation libgbm1 libu2f-udev libudev1 libwayland-server0 udev\r\n",
      "The following NEW packages will be installed:\r\n",
      "  fonts-liberation libgbm1 libu2f-udev libwayland-server0 udev\r\n",
      "The following packages will be upgraded:\r\n",
      "  libudev1\r\n",
      "1 upgraded, 5 newly installed, 0 to remove and 177 not upgraded.\r\n",
      "1 not fully installed or removed.\r\n",
      "Need to get 2330 kB of archives.\r\n",
      "After this operation, 11.8 MB of additional disk space will be used.\r\n",
      "Get:1 http://archive.ubuntu.com/ubuntu focal/main amd64 fonts-liberation all 1:1.07.4-11 [822 kB]\r\n",
      "Get:2 http://archive.ubuntu.com/ubuntu focal-updates/main amd64 libwayland-server0 amd64 1.18.0-1ubuntu0.1 [31.3 kB]\r\n",
      "Get:3 http://archive.ubuntu.com/ubuntu focal-updates/main amd64 libgbm1 amd64 21.2.6-0ubuntu0.1~20.04.2 [29.2 kB]\r\n",
      "Get:4 http://archive.ubuntu.com/ubuntu focal-updates/main amd64 libudev1 amd64 245.4-4ubuntu3.22 [75.4 kB]\r\n",
      "Get:5 http://archive.ubuntu.com/ubuntu focal-updates/main amd64 udev amd64 245.4-4ubuntu3.22 [1366 kB]\r\n",
      "Get:6 http://archive.ubuntu.com/ubuntu focal/main amd64 libu2f-udev all 1.1.10-1 [6108 B]\r\n",
      "Fetched 2330 kB in 3s (759 kB/s)\r\n",
      "Selecting previously unselected package fonts-liberation.\r\n",
      "(Reading database ... 106466 files and directories currently installed.)\r\n",
      "Preparing to unpack .../fonts-liberation_1%3a1.07.4-11_all.deb ...\r\n",
      "Unpacking fonts-liberation (1:1.07.4-11) ...\r\n",
      "Selecting previously unselected package libwayland-server0:amd64.\r\n",
      "Preparing to unpack .../libwayland-server0_1.18.0-1ubuntu0.1_amd64.deb ...\r\n",
      "Unpacking libwayland-server0:amd64 (1.18.0-1ubuntu0.1) ...\r\n",
      "Selecting previously unselected package libgbm1:amd64.\r\n",
      "Preparing to unpack .../libgbm1_21.2.6-0ubuntu0.1~20.04.2_amd64.deb ...\r\n",
      "Unpacking libgbm1:amd64 (21.2.6-0ubuntu0.1~20.04.2) ...\r\n",
      "Preparing to unpack .../libudev1_245.4-4ubuntu3.22_amd64.deb ...\r\n",
      "Unpacking libudev1:amd64 (245.4-4ubuntu3.22) over (245.4-4ubuntu3.17) ...\r\n",
      "Setting up libudev1:amd64 (245.4-4ubuntu3.22) ...\r\n",
      "Selecting previously unselected package udev.\r\n",
      "(Reading database ... 106503 files and directories currently installed.)\r\n",
      "Preparing to unpack .../udev_245.4-4ubuntu3.22_amd64.deb ...\r\n",
      "Unpacking udev (245.4-4ubuntu3.22) ...\r\n",
      "Selecting previously unselected package libu2f-udev.\r\n",
      "Preparing to unpack .../libu2f-udev_1.1.10-1_all.deb ...\r\n",
      "Unpacking libu2f-udev (1.1.10-1) ...\r\n",
      "Setting up libwayland-server0:amd64 (1.18.0-1ubuntu0.1) ...\r\n",
      "Setting up libgbm1:amd64 (21.2.6-0ubuntu0.1~20.04.2) ...\r\n",
      "Setting up udev (245.4-4ubuntu3.22) ...\r\n",
      "invoke-rc.d: could not determine current runlevel\r\n",
      "invoke-rc.d: policy-rc.d denied execution of start.\r\n",
      "Setting up fonts-liberation (1:1.07.4-11) ...\r\n",
      "Setting up libu2f-udev (1.1.10-1) ...\r\n",
      "Failed to send reload request: No such file or directory\r\n",
      "Setting up google-chrome-stable (114.0.5735.133-1) ...\r\n",
      "update-alternatives: using /usr/bin/google-chrome-stable to provide /usr/bin/x-www-browser (x-www-browser) in auto mode\r\n",
      "update-alternatives: using /usr/bin/google-chrome-stable to provide /usr/bin/gnome-www-browser (gnome-www-browser) in auto mode\r\n",
      "update-alternatives: using /usr/bin/google-chrome-stable to provide /usr/bin/google-chrome (google-chrome) in auto mode\r\n",
      "Processing triggers for systemd (245.4-4ubuntu3.17) ...\r\n",
      "Processing triggers for man-db (2.9.1-1) ...\r\n",
      "Processing triggers for fontconfig (2.13.1-2ubuntu3) ...\r\n",
      "Processing triggers for libc-bin (2.31-0ubuntu9.9) ...\r\n"
     ]
    }
   ],
   "source": [
    "#!sudo apt-get install -y google-chrome-stable\n",
    "!wget https://dl.google.com/linux/direct/google-chrome-stable_current_amd64.deb\n",
    "!sudo dpkg -i google-chrome-stable_current_amd64.deb\n",
    "!sudo apt-get install -f -y"
   ]
  },
  {
   "cell_type": "code",
   "execution_count": 6,
   "id": "9cc87f63",
   "metadata": {
    "execution": {
     "iopub.execute_input": "2023-06-19T00:11:47.413129Z",
     "iopub.status.busy": "2023-06-19T00:11:47.412643Z",
     "iopub.status.idle": "2023-06-19T00:11:49.896920Z",
     "shell.execute_reply": "2023-06-19T00:11:49.895497Z"
    },
    "papermill": {
     "duration": 2.510182,
     "end_time": "2023-06-19T00:11:49.900244",
     "exception": false,
     "start_time": "2023-06-19T00:11:47.390062",
     "status": "completed"
    },
    "tags": []
   },
   "outputs": [
    {
     "name": "stdout",
     "output_type": "stream",
     "text": [
      "--2023-06-19 00:11:48--  http://chromedriver.storage.googleapis.com/114.0.5735.90/chromedriver_linux64.zip\r\n",
      "Resolving chromedriver.storage.googleapis.com (chromedriver.storage.googleapis.com)... 142.250.157.128, 2404:6800:4008:c13::80\r\n",
      "Connecting to chromedriver.storage.googleapis.com (chromedriver.storage.googleapis.com)|142.250.157.128|:80... connected.\r\n",
      "HTTP request sent, awaiting response... 200 OK\r\n",
      "Length: 7407250 (7.1M) [application/zip]\r\n",
      "Saving to: ‘/tmp/chromedriver.zip’\r\n",
      "\r\n",
      "/tmp/chromedriver.z 100%[===================>]   7.06M  6.81MB/s    in 1.0s    \r\n",
      "\r\n",
      "2023-06-19 00:11:49 (6.81 MB/s) - ‘/tmp/chromedriver.zip’ saved [7407250/7407250]\r\n",
      "\r\n"
     ]
    }
   ],
   "source": [
    "!wget -O /tmp/chromedriver.zip http://chromedriver.storage.googleapis.com/`curl -sS chromedriver.storage.googleapis.com/LATEST_RELEASE`/chromedriver_linux64.zip\n",
    "#!unzip /tmp/chromedriver.zip chromedriver -d /usr/local/bin/ Removido 18/06/2023\n"
   ]
  },
  {
   "cell_type": "code",
   "execution_count": 7,
   "id": "7e865b37",
   "metadata": {
    "execution": {
     "iopub.execute_input": "2023-06-19T00:11:49.944535Z",
     "iopub.status.busy": "2023-06-19T00:11:49.944059Z",
     "iopub.status.idle": "2023-06-19T00:11:52.216749Z",
     "shell.execute_reply": "2023-06-19T00:11:52.215149Z"
    },
    "papermill": {
     "duration": 2.299375,
     "end_time": "2023-06-19T00:11:52.220147",
     "exception": false,
     "start_time": "2023-06-19T00:11:49.920772",
     "status": "completed"
    },
    "tags": []
   },
   "outputs": [
    {
     "name": "stdout",
     "output_type": "stream",
     "text": [
      "Google Chrome 114.0.5735.133 \r\n",
      "/bin/bash: chromedriver: command not found\r\n"
     ]
    }
   ],
   "source": [
    "!google-chrome --version\n",
    "!chromedriver -v"
   ]
  },
  {
   "cell_type": "code",
   "execution_count": 8,
   "id": "b919c372",
   "metadata": {
    "execution": {
     "iopub.execute_input": "2023-06-19T00:11:52.264237Z",
     "iopub.status.busy": "2023-06-19T00:11:52.263774Z",
     "iopub.status.idle": "2023-06-19T00:11:52.574052Z",
     "shell.execute_reply": "2023-06-19T00:11:52.572379Z"
    },
    "id": "MxuokQMiuLwn",
    "papermill": {
     "duration": 0.336066,
     "end_time": "2023-06-19T00:11:52.577033",
     "exception": false,
     "start_time": "2023-06-19T00:11:52.240967",
     "status": "completed"
    },
    "tags": []
   },
   "outputs": [],
   "source": [
    "import sys\n",
    "import yaml\n",
    "\n",
    "from selenium import webdriver\n",
    "from selenium.webdriver.support import expected_conditions as EC\n",
    "from selenium.webdriver.common.by import By\n",
    "from selenium.webdriver.support.ui import WebDriverWait\n",
    "from selenium.common.exceptions import TimeoutException\n",
    "from selenium.webdriver.chrome.service import Service\n",
    "\n",
    "from urllib.request import urlopen\n",
    "from urllib.error import HTTPError\n",
    "from bs4 import BeautifulSoup"
   ]
  },
  {
   "cell_type": "code",
   "execution_count": 9,
   "id": "1cb793c7",
   "metadata": {
    "execution": {
     "iopub.execute_input": "2023-06-19T00:11:52.620919Z",
     "iopub.status.busy": "2023-06-19T00:11:52.619970Z",
     "iopub.status.idle": "2023-06-19T00:11:52.633511Z",
     "shell.execute_reply": "2023-06-19T00:11:52.632436Z"
    },
    "id": "cmZWu2-qQCB9",
    "papermill": {
     "duration": 0.038392,
     "end_time": "2023-06-19T00:11:52.636293",
     "exception": false,
     "start_time": "2023-06-19T00:11:52.597901",
     "status": "completed"
    },
    "tags": []
   },
   "outputs": [],
   "source": [
    "#Loading User and Password\n",
    "\n",
    "conf = yaml.full_load(open('../input/logindetails/loginDetails.yml'))\n",
    "camisa7Email = conf['camisa7_user']['email']\n",
    "camisa7Password = conf['camisa7_user']['password']"
   ]
  },
  {
   "cell_type": "code",
   "execution_count": 10,
   "id": "8fa7abcf",
   "metadata": {
    "execution": {
     "iopub.execute_input": "2023-06-19T00:11:52.678925Z",
     "iopub.status.busy": "2023-06-19T00:11:52.678491Z",
     "iopub.status.idle": "2023-06-19T00:11:52.683362Z",
     "shell.execute_reply": "2023-06-19T00:11:52.682281Z"
    },
    "id": "_zV2LaWcRyhF",
    "papermill": {
     "duration": 0.028926,
     "end_time": "2023-06-19T00:11:52.685685",
     "exception": false,
     "start_time": "2023-06-19T00:11:52.656759",
     "status": "completed"
    },
    "tags": []
   },
   "outputs": [],
   "source": [
    "#Checking User and Password\n",
    "\n",
    "#print(camisa7Email)\n",
    "#print(camisa7Password)"
   ]
  },
  {
   "cell_type": "code",
   "execution_count": 11,
   "id": "e37798c8",
   "metadata": {
    "execution": {
     "iopub.execute_input": "2023-06-19T00:11:52.730336Z",
     "iopub.status.busy": "2023-06-19T00:11:52.729595Z",
     "iopub.status.idle": "2023-06-19T00:11:55.832216Z",
     "shell.execute_reply": "2023-06-19T00:11:55.830916Z"
    },
    "id": "JGlfjn3mMY3e",
    "papermill": {
     "duration": 3.128288,
     "end_time": "2023-06-19T00:11:55.834986",
     "exception": false,
     "start_time": "2023-06-19T00:11:52.706698",
     "status": "completed"
    },
    "tags": []
   },
   "outputs": [],
   "source": [
    "#Config webdriver\n",
    "\n",
    "#sys.path.insert(0,'/usr/lib/chromium-browser/chromedriver')\n",
    "#chrome_options = webdriver.ChromeOptions()\n",
    "#chrome_options.add_argument('--headless')\n",
    "#chrome_options.add_argument('--no-sandbox')\n",
    "#chrome_options.add_argument('--disable-dev-shm-usage')\n",
    "\n",
    "service = Service(executable_path=r'/usr/lib/chromium-browser/chromedriver')\n",
    "options = webdriver.ChromeOptions()\n",
    "options.add_argument('--headless')\n",
    "options.add_argument('--no-sandbox')\n",
    "options.add_argument('--disable-dev-shm-usage')\n",
    "wd = webdriver.Chrome(service=service, options=options)\n",
    "\n"
   ]
  },
  {
   "cell_type": "code",
   "execution_count": 12,
   "id": "d640af0d",
   "metadata": {
    "execution": {
     "iopub.execute_input": "2023-06-19T00:11:55.880095Z",
     "iopub.status.busy": "2023-06-19T00:11:55.879281Z",
     "iopub.status.idle": "2023-06-19T00:11:55.886384Z",
     "shell.execute_reply": "2023-06-19T00:11:55.885324Z"
    },
    "id": "WGrT3i00yZXC",
    "papermill": {
     "duration": 0.032635,
     "end_time": "2023-06-19T00:11:55.888962",
     "exception": false,
     "start_time": "2023-06-19T00:11:55.856327",
     "status": "completed"
    },
    "tags": []
   },
   "outputs": [],
   "source": [
    "def getPage(url):\n",
    "  try:\n",
    "    html = urlopen(url)\n",
    "  except HTTPError as e:\n",
    "    return None\n",
    "  \n",
    "  try:\n",
    "    bsObj = BeautifulSoup(html.read())\n",
    "    page = bsObj\n",
    "  except AttributeError as e:\n",
    "    return None\n",
    "  return page"
   ]
  },
  {
   "cell_type": "code",
   "execution_count": 13,
   "id": "6e4c6629",
   "metadata": {
    "execution": {
     "iopub.execute_input": "2023-06-19T00:11:55.932153Z",
     "iopub.status.busy": "2023-06-19T00:11:55.931381Z",
     "iopub.status.idle": "2023-06-19T00:12:04.702952Z",
     "shell.execute_reply": "2023-06-19T00:12:04.701687Z"
    },
    "id": "8s3Fl32-J98M",
    "outputId": "1d88b99a-11d8-4ad4-c58a-923aa4c5ec2d",
    "papermill": {
     "duration": 8.796973,
     "end_time": "2023-06-19T00:12:04.706672",
     "exception": false,
     "start_time": "2023-06-19T00:11:55.909699",
     "status": "completed"
    },
    "tags": []
   },
   "outputs": [
    {
     "name": "stdout",
     "output_type": "stream",
     "text": [
      "Login DONE!!!\n"
     ]
    }
   ],
   "source": [
    "url = 'https://camisa7.botafogo.com.br/entrar'\n",
    "DELAY = 10\n",
    "\n",
    "# open web page\n",
    "wd.get(url)\n",
    "#Camisa7 - id = mat-input-2 (email) - id = mat-input-3 (password)\n",
    "#wd.find_element(By.CLASS_NAME, \"fengi-user\").click()\n",
    "\n",
    "delay = 8 # seconds\n",
    "try:\n",
    "    waitedElement = EC.presence_of_element_located((By.ID, \"mat-input-0\"))\n",
    "    WebDriverWait(wd, delay).until(waitedElement)\n",
    "    wd.find_element(By.ID,\"mat-input-0\").send_keys(camisa7Email)\n",
    "    wd.find_element(By.ID,\"mat-input-1\").send_keys(camisa7Password)\n",
    "    wd.find_element(By.CLASS_NAME,'login-btn').click()\n",
    "    \n",
    "    print(\"Login DONE!!!\")\n",
    "except TimeoutException:\n",
    "    print(\"Loading took too much time!\")\n"
   ]
  },
  {
   "cell_type": "code",
   "execution_count": 14,
   "id": "f2544cb4",
   "metadata": {
    "execution": {
     "iopub.execute_input": "2023-06-19T00:12:04.770493Z",
     "iopub.status.busy": "2023-06-19T00:12:04.769871Z",
     "iopub.status.idle": "2023-06-19T00:12:06.298951Z",
     "shell.execute_reply": "2023-06-19T00:12:06.297506Z"
    },
    "id": "BjyOChE9zOc3",
    "papermill": {
     "duration": 1.564327,
     "end_time": "2023-06-19T00:12:06.303240",
     "exception": false,
     "start_time": "2023-06-19T00:12:04.738913",
     "status": "completed"
    },
    "tags": []
   },
   "outputs": [],
   "source": [
    "page = getPage(url)"
   ]
  },
  {
   "cell_type": "code",
   "execution_count": 15,
   "id": "88f3473a",
   "metadata": {
    "execution": {
     "iopub.execute_input": "2023-06-19T00:12:06.349068Z",
     "iopub.status.busy": "2023-06-19T00:12:06.348354Z",
     "iopub.status.idle": "2023-06-19T00:12:06.355740Z",
     "shell.execute_reply": "2023-06-19T00:12:06.354229Z"
    },
    "id": "s_QTlYKfu1MG",
    "outputId": "605b3726-b734-4959-f9cb-081e392abe8f",
    "papermill": {
     "duration": 0.032967,
     "end_time": "2023-06-19T00:12:06.358285",
     "exception": false,
     "start_time": "2023-06-19T00:12:06.325318",
     "status": "completed"
    },
    "tags": []
   },
   "outputs": [
    {
     "name": "stdout",
     "output_type": "stream",
     "text": [
      "pagina carregada\n"
     ]
    }
   ],
   "source": [
    "if page == None:\n",
    "  print('Camisa 7 com problemas...')\n",
    "else:\n",
    "  print('pagina carregada')"
   ]
  },
  {
   "cell_type": "code",
   "execution_count": 16,
   "id": "02512cb0",
   "metadata": {
    "execution": {
     "iopub.execute_input": "2023-06-19T00:12:06.413772Z",
     "iopub.status.busy": "2023-06-19T00:12:06.412780Z",
     "iopub.status.idle": "2023-06-19T00:12:06.421373Z",
     "shell.execute_reply": "2023-06-19T00:12:06.419941Z"
    },
    "id": "TH7ebl9EvJob",
    "outputId": "c3cae115-8b81-471f-b295-c58c150b3811",
    "papermill": {
     "duration": 0.040323,
     "end_time": "2023-06-19T00:12:06.424054",
     "exception": false,
     "start_time": "2023-06-19T00:12:06.383731",
     "status": "completed"
    },
    "tags": []
   },
   "outputs": [
    {
     "name": "stdout",
     "output_type": "stream",
     "text": [
      "<body>\n",
      "<app-root></app-root>\n",
      "<!-- Google Tag Manager (noscript) -->\n",
      "<noscript>\n",
      "<iframe height=\"0\" src=\"https://www.googletagmanager.com/ns.html?id=GTM-P6727N2\" style=\"display:none;visibility:hidden\" width=\"0\"></iframe>\n",
      "</noscript>\n",
      "<!-- End Google Tag Manager (noscript) -->\n",
      "<script defer=\"\" src=\"runtime.0e875322176654cd74ff.js\"></script><script defer=\"\" src=\"polyfills.9b9c07eb91d353ac20f6.js\"></script><script defer=\"\" src=\"main.ade95fecf3bb5b06aef2.js\"></script></body>\n"
     ]
    }
   ],
   "source": [
    "nameList = page.findAll(\"header\", {\"class\":\"header-4\"})\n",
    "print(page.body)"
   ]
  },
  {
   "cell_type": "code",
   "execution_count": 17,
   "id": "9076c3f8",
   "metadata": {
    "execution": {
     "iopub.execute_input": "2023-06-19T00:12:06.471967Z",
     "iopub.status.busy": "2023-06-19T00:12:06.471073Z",
     "iopub.status.idle": "2023-06-19T00:12:06.478694Z",
     "shell.execute_reply": "2023-06-19T00:12:06.477091Z"
    },
    "id": "7Fv94NbhvRTK",
    "outputId": "6641cf00-5b12-407e-9e4f-d49400c93676",
    "papermill": {
     "duration": 0.034775,
     "end_time": "2023-06-19T00:12:06.481668",
     "exception": false,
     "start_time": "2023-06-19T00:12:06.446893",
     "status": "completed"
    },
    "tags": []
   },
   "outputs": [
    {
     "name": "stdout",
     "output_type": "stream",
     "text": [
      "0\n"
     ]
    }
   ],
   "source": [
    "print(len(nameList))\n",
    "for name in nameList:\n",
    "  print(name.get_text())"
   ]
  },
  {
   "cell_type": "code",
   "execution_count": null,
   "id": "abeeab92",
   "metadata": {
    "id": "f2AEvigsvX8J",
    "papermill": {
     "duration": 0.022362,
     "end_time": "2023-06-19T00:12:06.526317",
     "exception": false,
     "start_time": "2023-06-19T00:12:06.503955",
     "status": "completed"
    },
    "tags": []
   },
   "outputs": [],
   "source": []
  }
 ],
 "metadata": {
  "kernelspec": {
   "display_name": "Python 3",
   "language": "python",
   "name": "python3"
  },
  "language_info": {
   "codemirror_mode": {
    "name": "ipython",
    "version": 3
   },
   "file_extension": ".py",
   "mimetype": "text/x-python",
   "name": "python",
   "nbconvert_exporter": "python",
   "pygments_lexer": "ipython3",
   "version": "3.7.12"
  },
  "papermill": {
   "default_parameters": {},
   "duration": 115.27422,
   "end_time": "2023-06-19T00:12:09.172467",
   "environment_variables": {},
   "exception": null,
   "input_path": "__notebook__.ipynb",
   "output_path": "__notebook__.ipynb",
   "parameters": {},
   "start_time": "2023-06-19T00:10:13.898247",
   "version": "2.3.4"
  }
 },
 "nbformat": 4,
 "nbformat_minor": 5
}
